{
 "cells": [
  {
   "cell_type": "code",
   "execution_count": 12,
   "id": "champion-rental",
   "metadata": {},
   "outputs": [],
   "source": [
    "import pymongo\n",
    "import pandas as pd"
   ]
  },
  {
   "cell_type": "code",
   "execution_count": 3,
   "id": "baking-ethnic",
   "metadata": {},
   "outputs": [],
   "source": [
    "#직방 크롤링\n",
    "import zigbang as zb"
   ]
  },
  {
   "cell_type": "code",
   "execution_count": 5,
   "id": "loved-nation",
   "metadata": {},
   "outputs": [
    {
     "data": {
      "text/plain": [
       "MongoClient('3.34.255.10', 27017)"
      ]
     },
     "execution_count": 5,
     "metadata": {},
     "output_type": "execute_result"
    }
   ],
   "source": [
    "# 데이터베이스 서버 연결\n",
    "client=pymongo.MongoClient(\"mongodb://3.34.255.10:27017/\")\n",
    "client"
   ]
  },
  {
   "cell_type": "code",
   "execution_count": 6,
   "id": "expressed-stable",
   "metadata": {},
   "outputs": [
    {
     "data": {
      "text/plain": [
       "Collection(Database(MongoClient('3.34.255.10', 27017), 'crawling'), 'zigbang')"
      ]
     },
     "execution_count": 6,
     "metadata": {},
     "output_type": "execute_result"
    }
   ],
   "source": [
    "# 데이터베이스와 컬렉션 생성\n",
    "zigbang=client.crawling.zigbang\n",
    "zigbang"
   ]
  },
  {
   "cell_type": "code",
   "execution_count": 15,
   "id": "destroyed-nicholas",
   "metadata": {},
   "outputs": [
    {
     "data": {
      "text/plain": [
       "11"
      ]
     },
     "execution_count": 15,
     "metadata": {},
     "output_type": "execute_result"
    }
   ],
   "source": [
    "items=zb.oneroom(\"성수동\")\n",
    "len(items)"
   ]
  },
  {
   "cell_type": "code",
   "execution_count": 16,
   "id": "special-river",
   "metadata": {},
   "outputs": [
    {
     "data": {
      "text/plain": [
       "{'section_type': None,\n",
       " 'item_id': 25293754,\n",
       " 'images_thumbnail': 'https://ic.zigbang.com/ic/items/25293754/1.jpg',\n",
       " 'sales_type': '월세',\n",
       " 'sales_title': '월세',\n",
       " 'deposit': 1000,\n",
       " 'rent': 60,\n",
       " 'size_m2': 99.17,\n",
       " '공급면적': {'m2': 99.17, 'p': '30'},\n",
       " '전용면적': {'m2': 49.59, 'p': '15'},\n",
       " '계약면적': None,\n",
       " 'room_type_title': None,\n",
       " 'floor': '1',\n",
       " 'floor_string': '1',\n",
       " 'building_floor': '3',\n",
       " 'title': '뚝섬역 도보 5분, 채광좋고 보안좋은 투룸',\n",
       " 'is_first_movein': None,\n",
       " 'room_type': '04',\n",
       " 'address': '성동구 성수동1가',\n",
       " 'random_location': {'lat': 37.54198904225015, 'lng': 127.04363934244734},\n",
       " 'is_zzim': False,\n",
       " 'status': True,\n",
       " 'service_type': '빌라',\n",
       " 'tags': [],\n",
       " 'address1': '서울시 성동구 성수동1가',\n",
       " 'address2': None,\n",
       " 'address3': None,\n",
       " 'manage_cost': '0',\n",
       " 'reg_date': '2021-01-27T18:27:41+09:00',\n",
       " 'is_new': False}"
      ]
     },
     "execution_count": 16,
     "metadata": {},
     "output_type": "execute_result"
    }
   ],
   "source": [
    "items[0]"
   ]
  },
  {
   "cell_type": "code",
   "execution_count": 17,
   "id": "bound-error",
   "metadata": {},
   "outputs": [
    {
     "data": {
      "text/plain": [
       "11"
      ]
     },
     "execution_count": 17,
     "metadata": {},
     "output_type": "execute_result"
    }
   ],
   "source": [
    "ids = zigbang.insert(items)\n",
    "len(ids)"
   ]
  },
  {
   "cell_type": "code",
   "execution_count": 20,
   "id": "accomplished-liabilities",
   "metadata": {},
   "outputs": [
    {
     "data": {
      "text/html": [
       "<div>\n",
       "<style scoped>\n",
       "    .dataframe tbody tr th:only-of-type {\n",
       "        vertical-align: middle;\n",
       "    }\n",
       "\n",
       "    .dataframe tbody tr th {\n",
       "        vertical-align: top;\n",
       "    }\n",
       "\n",
       "    .dataframe thead th {\n",
       "        text-align: right;\n",
       "    }\n",
       "</style>\n",
       "<table border=\"1\" class=\"dataframe\">\n",
       "  <thead>\n",
       "    <tr style=\"text-align: right;\">\n",
       "      <th></th>\n",
       "      <th>floor</th>\n",
       "      <th>address1</th>\n",
       "      <th>rent</th>\n",
       "      <th>size_m2</th>\n",
       "      <th>deposit</th>\n",
       "    </tr>\n",
       "  </thead>\n",
       "  <tbody>\n",
       "    <tr>\n",
       "      <th>9</th>\n",
       "      <td>4</td>\n",
       "      <td>서울시 성동구 성수동1가</td>\n",
       "      <td>0</td>\n",
       "      <td>19.8347</td>\n",
       "      <td>6000</td>\n",
       "    </tr>\n",
       "    <tr>\n",
       "      <th>10</th>\n",
       "      <td>3</td>\n",
       "      <td>서울시 성동구 성수동1가</td>\n",
       "      <td>45</td>\n",
       "      <td>16.5300</td>\n",
       "      <td>1000</td>\n",
       "    </tr>\n",
       "  </tbody>\n",
       "</table>\n",
       "</div>"
      ],
      "text/plain": [
       "   floor       address1  rent  size_m2  deposit\n",
       "9      4  서울시 성동구 성수동1가     0  19.8347     6000\n",
       "10     3  서울시 성동구 성수동1가    45  16.5300     1000"
      ]
     },
     "execution_count": 20,
     "metadata": {},
     "output_type": "execute_result"
    }
   ],
   "source": [
    "# 데이터프레임저장\n",
    "sungsoo_df=pd.DataFrame(items)\n",
    "columns=[\"floor\",\"address1\",\"rent\",\"size_m2\",\"deposit\"]\n",
    "sungsoo_df=sungsoo_df[columns]\n",
    "sungsoo_df.tail(2)"
   ]
  },
  {
   "cell_type": "code",
   "execution_count": 21,
   "id": "coated-logging",
   "metadata": {},
   "outputs": [],
   "source": [
    "zigbang2 = client.crawling.zigbang2"
   ]
  },
  {
   "cell_type": "code",
   "execution_count": 22,
   "id": "headed-booking",
   "metadata": {},
   "outputs": [],
   "source": [
    "items = sungsoo_df.to_dict(\"records\")"
   ]
  },
  {
   "cell_type": "code",
   "execution_count": 24,
   "id": "automatic-covering",
   "metadata": {},
   "outputs": [
    {
     "data": {
      "text/plain": [
       "{'floor': '1',\n",
       " 'address1': '서울시 성동구 성수동1가',\n",
       " 'rent': 60,\n",
       " 'size_m2': 99.17,\n",
       " 'deposit': 1000}"
      ]
     },
     "execution_count": 24,
     "metadata": {},
     "output_type": "execute_result"
    }
   ],
   "source": [
    "items[0]"
   ]
  },
  {
   "cell_type": "code",
   "execution_count": 25,
   "id": "sustained-landing",
   "metadata": {},
   "outputs": [],
   "source": [
    "ids = zigbang2.insert(items)"
   ]
  },
  {
   "cell_type": "code",
   "execution_count": 26,
   "id": "realistic-rescue",
   "metadata": {},
   "outputs": [],
   "source": [
    "# 데이터 find()"
   ]
  },
  {
   "cell_type": "code",
   "execution_count": 28,
   "id": "described-replica",
   "metadata": {},
   "outputs": [
    {
     "data": {
      "text/plain": [
       "[{'_id': ObjectId('6034b12588b83b4f529fd648'),\n",
       "  'floor': '1',\n",
       "  'address1': '서울시 성동구 성수동1가',\n",
       "  'rent': 60,\n",
       "  'size_m2': 99.17,\n",
       "  'deposit': 1000},\n",
       " {'_id': ObjectId('6034b12588b83b4f529fd649'),\n",
       "  'floor': '2',\n",
       "  'address1': '서울시 성동구 성수동1가',\n",
       "  'rent': 30,\n",
       "  'size_m2': 23.14,\n",
       "  'deposit': 6000},\n",
       " {'_id': ObjectId('6034b12588b83b4f529fd64a'),\n",
       "  'floor': '2',\n",
       "  'address1': '서울시 성동구 성수동1가',\n",
       "  'rent': 20,\n",
       "  'size_m2': 56.2,\n",
       "  'deposit': 25000},\n",
       " {'_id': ObjectId('6034b12588b83b4f529fd64b'),\n",
       "  'floor': '2',\n",
       "  'address1': '서울시 성동구 성수동1가',\n",
       "  'rent': 65,\n",
       "  'size_m2': 19.83,\n",
       "  'deposit': 1000},\n",
       " {'_id': ObjectId('6034b12588b83b4f529fd64c'),\n",
       "  'floor': '2',\n",
       "  'address1': '서울시 성동구 성수동1가',\n",
       "  'rent': 0,\n",
       "  'size_m2': 42.0,\n",
       "  'deposit': 25000},\n",
       " {'_id': ObjectId('6034b12588b83b4f529fd64d'),\n",
       "  'floor': '2',\n",
       "  'address1': '서울시 성동구 성수동1가',\n",
       "  'rent': 0,\n",
       "  'size_m2': 43.88,\n",
       "  'deposit': 25000},\n",
       " {'_id': ObjectId('6034b12588b83b4f529fd64e'),\n",
       "  'floor': '2',\n",
       "  'address1': '서울시 성동구 성수동1가',\n",
       "  'rent': 50,\n",
       "  'size_m2': 19.83,\n",
       "  'deposit': 1000},\n",
       " {'_id': ObjectId('6034b12588b83b4f529fd64f'),\n",
       "  'floor': '2',\n",
       "  'address1': '서울시 성동구 성수동1가',\n",
       "  'rent': 50,\n",
       "  'size_m2': 17.0,\n",
       "  'deposit': 1000},\n",
       " {'_id': ObjectId('6034b12588b83b4f529fd650'),\n",
       "  'floor': '2',\n",
       "  'address1': '서울시 성동구 성수동1가',\n",
       "  'rent': 50,\n",
       "  'size_m2': 16.53,\n",
       "  'deposit': 1000},\n",
       " {'_id': ObjectId('6034b12588b83b4f529fd651'),\n",
       "  'floor': '4',\n",
       "  'address1': '서울시 성동구 성수동1가',\n",
       "  'rent': 0,\n",
       "  'size_m2': 19.8347,\n",
       "  'deposit': 6000},\n",
       " {'_id': ObjectId('6034b12588b83b4f529fd652'),\n",
       "  'floor': '3',\n",
       "  'address1': '서울시 성동구 성수동1가',\n",
       "  'rent': 45,\n",
       "  'size_m2': 16.53,\n",
       "  'deposit': 1000}]"
      ]
     },
     "execution_count": 28,
     "metadata": {},
     "output_type": "execute_result"
    }
   ],
   "source": [
    "results= zigbang2.find()\n",
    "\n",
    "list(results)"
   ]
  },
  {
   "cell_type": "code",
   "execution_count": 29,
   "id": "monthly-journal",
   "metadata": {},
   "outputs": [
    {
     "data": {
      "text/html": [
       "<div>\n",
       "<style scoped>\n",
       "    .dataframe tbody tr th:only-of-type {\n",
       "        vertical-align: middle;\n",
       "    }\n",
       "\n",
       "    .dataframe tbody tr th {\n",
       "        vertical-align: top;\n",
       "    }\n",
       "\n",
       "    .dataframe thead th {\n",
       "        text-align: right;\n",
       "    }\n",
       "</style>\n",
       "<table border=\"1\" class=\"dataframe\">\n",
       "  <thead>\n",
       "    <tr style=\"text-align: right;\">\n",
       "      <th></th>\n",
       "      <th>_id</th>\n",
       "      <th>address1</th>\n",
       "      <th>deposit</th>\n",
       "      <th>floor</th>\n",
       "      <th>rent</th>\n",
       "      <th>size_m2</th>\n",
       "    </tr>\n",
       "  </thead>\n",
       "  <tbody>\n",
       "    <tr>\n",
       "      <th>0</th>\n",
       "      <td>6034b12588b83b4f529fd649</td>\n",
       "      <td>서울시 성동구 성수동1가</td>\n",
       "      <td>6000</td>\n",
       "      <td>2</td>\n",
       "      <td>30</td>\n",
       "      <td>23.1400</td>\n",
       "    </tr>\n",
       "    <tr>\n",
       "      <th>1</th>\n",
       "      <td>6034b12588b83b4f529fd64a</td>\n",
       "      <td>서울시 성동구 성수동1가</td>\n",
       "      <td>25000</td>\n",
       "      <td>2</td>\n",
       "      <td>20</td>\n",
       "      <td>56.2000</td>\n",
       "    </tr>\n",
       "    <tr>\n",
       "      <th>2</th>\n",
       "      <td>6034b12588b83b4f529fd64c</td>\n",
       "      <td>서울시 성동구 성수동1가</td>\n",
       "      <td>25000</td>\n",
       "      <td>2</td>\n",
       "      <td>0</td>\n",
       "      <td>42.0000</td>\n",
       "    </tr>\n",
       "    <tr>\n",
       "      <th>3</th>\n",
       "      <td>6034b12588b83b4f529fd64d</td>\n",
       "      <td>서울시 성동구 성수동1가</td>\n",
       "      <td>25000</td>\n",
       "      <td>2</td>\n",
       "      <td>0</td>\n",
       "      <td>43.8800</td>\n",
       "    </tr>\n",
       "    <tr>\n",
       "      <th>4</th>\n",
       "      <td>6034b12588b83b4f529fd64e</td>\n",
       "      <td>서울시 성동구 성수동1가</td>\n",
       "      <td>1000</td>\n",
       "      <td>2</td>\n",
       "      <td>50</td>\n",
       "      <td>19.8300</td>\n",
       "    </tr>\n",
       "    <tr>\n",
       "      <th>5</th>\n",
       "      <td>6034b12588b83b4f529fd64f</td>\n",
       "      <td>서울시 성동구 성수동1가</td>\n",
       "      <td>1000</td>\n",
       "      <td>2</td>\n",
       "      <td>50</td>\n",
       "      <td>17.0000</td>\n",
       "    </tr>\n",
       "    <tr>\n",
       "      <th>6</th>\n",
       "      <td>6034b12588b83b4f529fd650</td>\n",
       "      <td>서울시 성동구 성수동1가</td>\n",
       "      <td>1000</td>\n",
       "      <td>2</td>\n",
       "      <td>50</td>\n",
       "      <td>16.5300</td>\n",
       "    </tr>\n",
       "    <tr>\n",
       "      <th>7</th>\n",
       "      <td>6034b12588b83b4f529fd651</td>\n",
       "      <td>서울시 성동구 성수동1가</td>\n",
       "      <td>6000</td>\n",
       "      <td>4</td>\n",
       "      <td>0</td>\n",
       "      <td>19.8347</td>\n",
       "    </tr>\n",
       "    <tr>\n",
       "      <th>8</th>\n",
       "      <td>6034b12588b83b4f529fd652</td>\n",
       "      <td>서울시 성동구 성수동1가</td>\n",
       "      <td>1000</td>\n",
       "      <td>3</td>\n",
       "      <td>45</td>\n",
       "      <td>16.5300</td>\n",
       "    </tr>\n",
       "  </tbody>\n",
       "</table>\n",
       "</div>"
      ],
      "text/plain": [
       "                        _id       address1  deposit floor  rent  size_m2\n",
       "0  6034b12588b83b4f529fd649  서울시 성동구 성수동1가     6000     2    30  23.1400\n",
       "1  6034b12588b83b4f529fd64a  서울시 성동구 성수동1가    25000     2    20  56.2000\n",
       "2  6034b12588b83b4f529fd64c  서울시 성동구 성수동1가    25000     2     0  42.0000\n",
       "3  6034b12588b83b4f529fd64d  서울시 성동구 성수동1가    25000     2     0  43.8800\n",
       "4  6034b12588b83b4f529fd64e  서울시 성동구 성수동1가     1000     2    50  19.8300\n",
       "5  6034b12588b83b4f529fd64f  서울시 성동구 성수동1가     1000     2    50  17.0000\n",
       "6  6034b12588b83b4f529fd650  서울시 성동구 성수동1가     1000     2    50  16.5300\n",
       "7  6034b12588b83b4f529fd651  서울시 성동구 성수동1가     6000     4     0  19.8347\n",
       "8  6034b12588b83b4f529fd652  서울시 성동구 성수동1가     1000     3    45  16.5300"
      ]
     },
     "execution_count": 29,
     "metadata": {},
     "output_type": "execute_result"
    }
   ],
   "source": [
    "#rent비 50미만 출력\n",
    "QUERY = {\"rent\":{\"$lte\":50}}\n",
    "results = zigbang2.find(QUERY)\n",
    "pd.DataFrame(results)"
   ]
  },
  {
   "cell_type": "code",
   "execution_count": 30,
   "id": "fitted-organ",
   "metadata": {},
   "outputs": [],
   "source": [
    "#컬렉션 삭제\n",
    "client.crawling.drop_collection(\"zigbang\")"
   ]
  },
  {
   "cell_type": "code",
   "execution_count": 31,
   "id": "fourth-diesel",
   "metadata": {},
   "outputs": [],
   "source": [
    "# 데이터베이스 삭제\n",
    "client.drop_database(\"crawling\")"
   ]
  },
  {
   "cell_type": "code",
   "execution_count": null,
   "id": "cordless-feelings",
   "metadata": {},
   "outputs": [],
   "source": []
  },
  {
   "cell_type": "code",
   "execution_count": null,
   "id": "grave-cocktail",
   "metadata": {},
   "outputs": [],
   "source": []
  }
 ],
 "metadata": {
  "kernelspec": {
   "display_name": "Python 3",
   "language": "python",
   "name": "python3"
  },
  "language_info": {
   "codemirror_mode": {
    "name": "ipython",
    "version": 3
   },
   "file_extension": ".py",
   "mimetype": "text/x-python",
   "name": "python",
   "nbconvert_exporter": "python",
   "pygments_lexer": "ipython3",
   "version": "3.6.9"
  }
 },
 "nbformat": 4,
 "nbformat_minor": 5
}
