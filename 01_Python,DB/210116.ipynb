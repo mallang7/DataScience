{
 "cells": [
  {
   "cell_type": "markdown",
   "metadata": {},
   "source": [
    "### 1.파이썬 기초 복습하기\n",
    "\n",
    "-익숙하지 않은 부분만 코딩"
   ]
  },
  {
   "cell_type": "code",
   "execution_count": 23,
   "metadata": {},
   "outputs": [
    {
     "name": "stdout",
     "output_type": "stream",
     "text": [
      "210116.ipynb\n",
      "Banila_MF_original-Copy1.ipynb\n",
      "Banila_MF_original.ipynb\n",
      "Banila_MF_rearrange-2(try).ipynb\n",
      "Banila_MF_rearrange.ipynb\n",
      "MF_MSQE\n",
      "MZHackerton\n",
      "Magenta1229.ipynb\n",
      "MarkovMusic-master\n",
      "Matrix Factorization_sort.ipynb\n",
      "Untitled Folder\n",
      "Untitled Folder 1\n",
      "Untitled1.ipynb\n",
      "Untitled2.ipynb\n",
      "Untitled3.ipynb\n",
      "Untitled4.ipynb\n",
      "Untitled5.ipynb\n",
      "Untitled6.ipynb\n",
      "Untitled7.ipynb\n",
      "Untitled8.ipynb\n",
      "Untitled9.ipynb\n",
      "lab2-01.ipynb\n",
      "lec3.ipynb\n",
      "lec4-1.ipynb\n",
      "lec5-1.ipynb\n",
      "lec5-2.ipynb\n",
      "magenta\n",
      "magenta-master\n",
      "matrix_factorization.ipynb\n",
      "matrixfactorization_sort2.ipynb\n",
      "rearrange_movie-0911.ipynb\n",
      "rearrange_movie-0914.ipynb\n",
      "rearrange_movie-0929.ipynb\n",
      "rearrange_movie.ipynb\n",
      "tensorflow-dnn-project.ipynb\n",
      "tensorflow2.0-dnn-project.ipynb\n",
      "�뜲�씠�꽣 �궗�씠�뼵�뒪 �뒪荑�\n"
     ]
    }
   ],
   "source": [
    "!ls"
   ]
  },
  {
   "cell_type": "code",
   "execution_count": 24,
   "metadata": {},
   "outputs": [
    {
     "name": "stdout",
     "output_type": "stream",
     "text": [
      "/c/jupyter_project\n"
     ]
    }
   ],
   "source": [
    "!pwd"
   ]
  },
  {
   "cell_type": "code",
   "execution_count": 18,
   "metadata": {},
   "outputs": [
    {
     "name": "stdout",
     "output_type": "stream",
     "text": [
      "Variable   Type     Data/Info\n",
      "-----------------------------\n",
      "data       int      99\n",
      "ls         range    range(0, 10)\n",
      "num1       int      9\n",
      "num2       int      9\n",
      "result     int      4950\n"
     ]
    }
   ],
   "source": [
    "%whos"
   ]
  },
  {
   "cell_type": "code",
   "execution_count": 3,
   "metadata": {},
   "outputs": [
    {
     "name": "stdout",
     "output_type": "stream",
     "text": [
      "4950\n"
     ]
    }
   ],
   "source": [
    "result=0\n",
    "for data in range(100):\n",
    "    result+=data\n",
    "print(result)"
   ]
  },
  {
   "cell_type": "code",
   "execution_count": 7,
   "metadata": {},
   "outputs": [
    {
     "name": "stdout",
     "output_type": "stream",
     "text": [
      "2*1=2\t3*1=3\t4*1=4\t5*1=5\t6*1=6\t7*1=7\t8*1=8\t9*1=9\t\n",
      "2*2=4\t3*2=6\t4*2=8\t5*2=10\t6*2=12\t7*2=14\t8*2=16\t9*2=18\t\n",
      "2*3=6\t3*3=9\t4*3=12\t5*3=15\t6*3=18\t7*3=21\t8*3=24\t9*3=27\t\n",
      "2*4=8\t3*4=12\t4*4=16\t5*4=20\t6*4=24\t7*4=28\t8*4=32\t9*4=36\t\n",
      "2*5=10\t3*5=15\t4*5=20\t5*5=25\t6*5=30\t7*5=35\t8*5=40\t9*5=45\t\n",
      "2*6=12\t3*6=18\t4*6=24\t5*6=30\t6*6=36\t7*6=42\t8*6=48\t9*6=54\t\n",
      "2*7=14\t3*7=21\t4*7=28\t5*7=35\t6*7=42\t7*7=49\t8*7=56\t9*7=63\t\n",
      "2*8=16\t3*8=24\t4*8=32\t5*8=40\t6*8=48\t7*8=56\t8*8=64\t9*8=72\t\n",
      "2*9=18\t3*9=27\t4*9=36\t5*9=45\t6*9=54\t7*9=63\t8*9=72\t9*9=81\t\n"
     ]
    }
   ],
   "source": [
    "for num2 in range(1,10):\n",
    "    for num1 in range(2,10):\n",
    "        print(\"{}*{}={}\".format(num1,num2,num1*num2), end=\"\\t\")\n",
    "    print()"
   ]
  },
  {
   "cell_type": "code",
   "execution_count": 10,
   "metadata": {},
   "outputs": [
    {
     "data": {
      "text/plain": [
       "[1, 3, 5, 7, 9]"
      ]
     },
     "execution_count": 10,
     "metadata": {},
     "output_type": "execute_result"
    }
   ],
   "source": [
    "ls=range(10)\n",
    "[data for data in ls if data %2] #뒤에 조건이 true(1)이 돼야 앞에 data출력"
   ]
  },
  {
   "cell_type": "markdown",
   "metadata": {},
   "source": [
    "## for문과 list comprehension 속도 비교"
   ]
  },
  {
   "cell_type": "code",
   "execution_count": 13,
   "metadata": {},
   "outputs": [
    {
     "name": "stdout",
     "output_type": "stream",
     "text": [
      "2.23 ms ± 83.3 µs per loop (mean ± std. dev. of 7 runs, 100 loops each)\n"
     ]
    }
   ],
   "source": [
    "%%timeit\n",
    "ls=[]\n",
    "for num in range(1,10001):\n",
    "    if num %3==0:\n",
    "        ls.append(num)\n",
    "len(ls)"
   ]
  },
  {
   "cell_type": "code",
   "execution_count": 14,
   "metadata": {},
   "outputs": [
    {
     "name": "stdout",
     "output_type": "stream",
     "text": [
      "1.98 ms ± 386 µs per loop (mean ± std. dev. of 7 runs, 1000 loops each)\n"
     ]
    }
   ],
   "source": [
    "##list comprehension이 2/3의 속도를 낸다\n",
    "%%timeit\n",
    "ls=[num for num in range(1,10001) if num%3==0]\n",
    "len(ls)"
   ]
  },
  {
   "cell_type": "markdown",
   "metadata": {},
   "source": [
    "## 파라미터, 아규먼트\n",
    "-파라미터: 함수를 선언할 때 호출하는 부분에서 보내주는 데이터를 받는변수\n",
    "\n",
    "-아규먼트: 함수를 호출할 때 함수에 보내주는 데이터"
   ]
  },
  {
   "cell_type": "code",
   "execution_count": 20,
   "metadata": {},
   "outputs": [],
   "source": [
    "def plus(num1,num2): #파라미터\n",
    "    print(num1+num2)"
   ]
  },
  {
   "cell_type": "code",
   "execution_count": 21,
   "metadata": {},
   "outputs": [
    {
     "name": "stdout",
     "output_type": "stream",
     "text": [
      "3\n"
     ]
    }
   ],
   "source": [
    "plus(1,2) #아규먼트"
   ]
  },
  {
   "cell_type": "code",
   "execution_count": 22,
   "metadata": {},
   "outputs": [
    {
     "name": "stdout",
     "output_type": "stream",
     "text": [
      "210116.ipynb\n",
      "Banila_MF_original-Copy1.ipynb\n",
      "Banila_MF_original.ipynb\n",
      "Banila_MF_rearrange-2(try).ipynb\n",
      "Banila_MF_rearrange.ipynb\n",
      "MF_MSQE\n",
      "MZHackerton\n",
      "Magenta1229.ipynb\n",
      "MarkovMusic-master\n",
      "Matrix Factorization_sort.ipynb\n",
      "Untitled Folder\n",
      "Untitled Folder 1\n",
      "Untitled1.ipynb\n",
      "Untitled2.ipynb\n",
      "Untitled3.ipynb\n",
      "Untitled4.ipynb\n",
      "Untitled5.ipynb\n",
      "Untitled6.ipynb\n",
      "Untitled7.ipynb\n",
      "Untitled8.ipynb\n",
      "Untitled9.ipynb\n",
      "lab2-01.ipynb\n",
      "lec3.ipynb\n",
      "lec4-1.ipynb\n",
      "lec5-1.ipynb\n",
      "lec5-2.ipynb\n",
      "magenta\n",
      "magenta-master\n",
      "matrix_factorization.ipynb\n",
      "matrixfactorization_sort2.ipynb\n",
      "rearrange_movie-0911.ipynb\n",
      "rearrange_movie-0914.ipynb\n",
      "rearrange_movie-0929.ipynb\n",
      "rearrange_movie.ipynb\n",
      "tensorflow-dnn-project.ipynb\n",
      "tensorflow2.0-dnn-project.ipynb\n",
      "�뜲�씠�꽣 �궗�씠�뼵�뒪 �뒪荑�\n"
     ]
    }
   ],
   "source": [
    "!ls"
   ]
  },
  {
   "cell_type": "markdown",
   "metadata": {},
   "source": [
    "### `*args`, `**kwargs`\n",
    "- 함수를 호출할 때 아규먼트와 키워드 아규먼트 개수를 특정지을 수 없을 때 사용"
   ]
  },
  {
   "cell_type": "code",
   "execution_count": 25,
   "metadata": {},
   "outputs": [],
   "source": [
    "def plus(*args):\n",
    "    print(type(args),args)\n",
    "    return sum(args)"
   ]
  },
  {
   "cell_type": "code",
   "execution_count": 27,
   "metadata": {},
   "outputs": [
    {
     "name": "stdout",
     "output_type": "stream",
     "text": [
      "<class 'tuple'> (1, 2, 3, 4, 5)\n"
     ]
    },
    {
     "data": {
      "text/plain": [
       "15"
      ]
     },
     "execution_count": 27,
     "metadata": {},
     "output_type": "execute_result"
    }
   ],
   "source": [
    "plus(1,2,3,4,5) #키워드없는 아규먼트들만 가능"
   ]
  },
  {
   "cell_type": "code",
   "execution_count": 34,
   "metadata": {},
   "outputs": [],
   "source": [
    "def plus(*args,**kwargs):\n",
    "    print(type(args),args)\n",
    "    print(type(kwargs),kwargs)\n",
    "    return sum(args)+sum(list(kwargs.values()))"
   ]
  },
  {
   "cell_type": "code",
   "execution_count": 35,
   "metadata": {},
   "outputs": [
    {
     "name": "stdout",
     "output_type": "stream",
     "text": [
      "<class 'tuple'> (1, 2, 3, 4, 5)\n",
      "<class 'dict'> {'num1': 6, 'num2': 7}\n"
     ]
    },
    {
     "data": {
      "text/plain": [
       "28"
      ]
     },
     "execution_count": 35,
     "metadata": {},
     "output_type": "execute_result"
    }
   ],
   "source": [
    "plus(1,2,3,4,5,num1=6,num2=7)"
   ]
  },
  {
   "cell_type": "code",
   "execution_count": 36,
   "metadata": {},
   "outputs": [
    {
     "data": {
      "text/plain": [
       "6"
      ]
     },
     "execution_count": 36,
     "metadata": {},
     "output_type": "execute_result"
    }
   ],
   "source": [
    "def func(num1,num2,num3):\n",
    "    return num1+num2+num3\n",
    "\n",
    "data=[1,2,3]\n",
    "func(*data) #func(1,2,3)과 같음"
   ]
  },
  {
   "cell_type": "code",
   "execution_count": 37,
   "metadata": {},
   "outputs": [
    {
     "data": {
      "text/plain": [
       "301"
      ]
     },
     "execution_count": 37,
     "metadata": {},
     "output_type": "execute_result"
    }
   ],
   "source": [
    "data={\n",
    "    \"num2\":100,\n",
    "    \"num3\":200\n",
    "}\n",
    "func(1,**data) # func(1,num2=100,num3=200)이랑 같음"
   ]
  },
  {
   "cell_type": "code",
   "execution_count": null,
   "metadata": {},
   "outputs": [],
   "source": []
  }
 ],
 "metadata": {
  "kernelspec": {
   "display_name": "Python 3",
   "language": "python",
   "name": "python3"
  },
  "language_info": {
   "codemirror_mode": {
    "name": "ipython",
    "version": 3
   },
   "file_extension": ".py",
   "mimetype": "text/x-python",
   "name": "python",
   "nbconvert_exporter": "python",
   "pygments_lexer": "ipython3",
   "version": "3.8.5"
  }
 },
 "nbformat": 4,
 "nbformat_minor": 4
}
