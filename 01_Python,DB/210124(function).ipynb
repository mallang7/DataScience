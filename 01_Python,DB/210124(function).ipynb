{
 "cells": [
  {
   "cell_type": "markdown",
   "metadata": {},
   "source": [
    "### 데코레이터\n",
    "```\n",
    "def c(func):\n",
    "    def wrapper(*args,**kwargs):\n",
    "        code_1\n",
    "        result=func(*args,**kwargs)\n",
    "        code_3\n",
    "        return result\n",
    "    return wrapper\n",
    "    \n",
    "@c\n",
    "def a():\n",
    "    code_2\n",
    "    \n",
    "@c\n",
    "def b():\n",
    "    code_4\n",
    "```\n",
    "코드1,2,3\n",
    "코드1,4,3 실행됨\n",
    "\n",
    "-a()가 wrapper()로 바뀌어서 아래 코드가 실행된다고 생각"
   ]
  },
  {
   "cell_type": "code",
   "execution_count": 1,
   "metadata": {},
   "outputs": [],
   "source": [
    "#a\n",
    "def plus(a,b):\n",
    "    print(\"start\")                      #code1\n",
    "    result=a+b                          #code2\n",
    "    print(\"result : {}.format(result)\") #code 3\n",
    "    return result"
   ]
  },
  {
   "cell_type": "code",
   "execution_count": 2,
   "metadata": {},
   "outputs": [],
   "source": [
    "#b\n",
    "def minus(a,b):\n",
    "    print(\"start\")                      #code1\n",
    "    result=a-b                          #code4\n",
    "    print(\"result : {}.format(result)\") #code 3\n",
    "    return result"
   ]
  },
  {
   "cell_type": "code",
   "execution_count": 15,
   "metadata": {},
   "outputs": [],
   "source": [
    "#c 데코레이터\n",
    "def disp(func):\n",
    "    def wrapper(*args,**kwargs):\n",
    "        print(\"start\")#코드1\n",
    "        result=func(*args,**kwargs) #코드2,4\n",
    "        print(\"result : {}\".format(result)) #코드3\n",
    "        return result\n",
    "    return wrapper"
   ]
  },
  {
   "cell_type": "code",
   "execution_count": 16,
   "metadata": {},
   "outputs": [],
   "source": [
    "#a 데코레이터 적용\n",
    "@disp\n",
    "def plus(a,b):\n",
    "    result=a+b                          #code2\n",
    "    return result\n",
    "\n",
    "#@disp를 써주면 plus가 disp가 return하는 함수로 바뀜\n",
    "#func자리에 plus(a,b)가 들어간다."
   ]
  },
  {
   "cell_type": "code",
   "execution_count": 17,
   "metadata": {},
   "outputs": [
    {
     "name": "stdout",
     "output_type": "stream",
     "text": [
      "start\n",
      "result : 3\n"
     ]
    },
    {
     "data": {
      "text/plain": [
       "3"
      ]
     },
     "execution_count": 17,
     "metadata": {},
     "output_type": "execute_result"
    }
   ],
   "source": [
    "plus(1,2)"
   ]
  },
  {
   "cell_type": "code",
   "execution_count": 24,
   "metadata": {},
   "outputs": [],
   "source": [
    "#데코레이터 예제 timer\n",
    "import time\n",
    "\n",
    "def timer(func):\n",
    "    def wrapper(*args,**kwargs):\n",
    "        start_time=time.time()\n",
    "        result= func(*args,**kwargs)\n",
    "        end_time=time.time()\n",
    "        print(\"running_time: {}\".format(end_time-start_time))\n",
    "        return result\n",
    "    return wrapper"
   ]
  },
  {
   "cell_type": "code",
   "execution_count": 25,
   "metadata": {},
   "outputs": [],
   "source": [
    "@timer\n",
    "def test1(num1,num2):\n",
    "    data=range(num1,num2+1)\n",
    "    return sum(data)"
   ]
  },
  {
   "cell_type": "code",
   "execution_count": 26,
   "metadata": {},
   "outputs": [],
   "source": [
    "@timer\n",
    "def test2(num1,num2):\n",
    "    result=0\n",
    "    for num in range(num1,num2+1):\n",
    "        result+=num\n",
    "    return result"
   ]
  },
  {
   "cell_type": "code",
   "execution_count": 29,
   "metadata": {},
   "outputs": [
    {
     "name": "stdout",
     "output_type": "stream",
     "text": [
      "running_time: 0.0\n"
     ]
    },
    {
     "data": {
      "text/plain": [
       "50005000"
      ]
     },
     "execution_count": 29,
     "metadata": {},
     "output_type": "execute_result"
    }
   ],
   "source": [
    "test1(1,10000)"
   ]
  },
  {
   "cell_type": "code",
   "execution_count": 28,
   "metadata": {},
   "outputs": [
    {
     "name": "stdout",
     "output_type": "stream",
     "text": [
      "running_time: 0.0010018348693847656\n"
     ]
    },
    {
     "data": {
      "text/plain": [
       "50005000"
      ]
     },
     "execution_count": 28,
     "metadata": {},
     "output_type": "execute_result"
    }
   ],
   "source": [
    "test(1,10000)"
   ]
  },
  {
   "cell_type": "code",
   "execution_count": 53,
   "metadata": {},
   "outputs": [],
   "source": [
    "#패스워드를 입력 받아야 점수가 실행되도록 하는 데코레이터 작성\n",
    "import random"
   ]
  },
  {
   "cell_type": "code",
   "execution_count": 54,
   "metadata": {},
   "outputs": [],
   "source": [
    "def check_password(func):\n",
    "    def wrapper(*args,**kwargs):\n",
    "        pw=\"ds11\"\n",
    "        \n",
    "        #check password\n",
    "        input_pw=input(\"insert pw: \")\n",
    "        if input_pw==pw:\n",
    "            result=func(*args,**kwargs)\n",
    "        else:\n",
    "            result=\"not allow!\"\n",
    "        return result\n",
    "    \n",
    "    return wrapper"
   ]
  },
  {
   "cell_type": "code",
   "execution_count": 55,
   "metadata": {},
   "outputs": [],
   "source": [
    "@check_password\n",
    "def plus(a,b):\n",
    "    return a+b"
   ]
  },
  {
   "cell_type": "code",
   "execution_count": 62,
   "metadata": {},
   "outputs": [],
   "source": [
    "@check_password\n",
    "def lotto_func():\n",
    "    lotto=[]\n",
    "    while True:\n",
    "        num=random.randint(1,45)\n",
    "        if num not in lotto:\n",
    "            lotto.append(num)\n",
    "        if len(lotto)>=6:\n",
    "            lotto.sort()\n",
    "            break\n",
    "    return lotto"
   ]
  },
  {
   "cell_type": "code",
   "execution_count": 57,
   "metadata": {},
   "outputs": [
    {
     "name": "stdout",
     "output_type": "stream",
     "text": [
      "insert pw: ds11\n"
     ]
    },
    {
     "data": {
      "text/plain": [
       "4"
      ]
     },
     "execution_count": 57,
     "metadata": {},
     "output_type": "execute_result"
    }
   ],
   "source": [
    "plus(1,3)"
   ]
  },
  {
   "cell_type": "code",
   "execution_count": 63,
   "metadata": {},
   "outputs": [
    {
     "name": "stdout",
     "output_type": "stream",
     "text": [
      "insert pw: ds11\n"
     ]
    },
    {
     "data": {
      "text/plain": [
       "[20, 22, 24, 35, 37, 42]"
      ]
     },
     "execution_count": 63,
     "metadata": {},
     "output_type": "execute_result"
    }
   ],
   "source": [
    "lotto_func()"
   ]
  },
  {
   "cell_type": "code",
   "execution_count": null,
   "metadata": {},
   "outputs": [],
   "source": []
  }
 ],
 "metadata": {
  "kernelspec": {
   "display_name": "Python 3",
   "language": "python",
   "name": "python3"
  },
  "language_info": {
   "codemirror_mode": {
    "name": "ipython",
    "version": 3
   },
   "file_extension": ".py",
   "mimetype": "text/x-python",
   "name": "python",
   "nbconvert_exporter": "python",
   "pygments_lexer": "ipython3",
   "version": "3.5.6"
  }
 },
 "nbformat": 4,
 "nbformat_minor": 4
}
