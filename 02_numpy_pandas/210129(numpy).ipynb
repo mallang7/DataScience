{
 "cells": [
  {
   "cell_type": "code",
   "execution_count": 1,
   "metadata": {},
   "outputs": [
    {
     "name": "stdout",
     "output_type": "stream",
     "text": [
      "The Zen of Python, by Tim Peters\n",
      "\n",
      "Beautiful is better than ugly.\n",
      "Explicit is better than implicit.\n",
      "Simple is better than complex.\n",
      "Complex is better than complicated.\n",
      "Flat is better than nested.\n",
      "Sparse is better than dense.\n",
      "Readability counts.\n",
      "Special cases aren't special enough to break the rules.\n",
      "Although practicality beats purity.\n",
      "Errors should never pass silently.\n",
      "Unless explicitly silenced.\n",
      "In the face of ambiguity, refuse the temptation to guess.\n",
      "There should be one-- and preferably only one --obvious way to do it.\n",
      "Although that way may not be obvious at first unless you're Dutch.\n",
      "Now is better than never.\n",
      "Although never is often better than *right* now.\n",
      "If the implementation is hard to explain, it's a bad idea.\n",
      "If the implementation is easy to explain, it may be a good idea.\n",
      "Namespaces are one honking great idea -- let's do more of those!\n"
     ]
    }
   ],
   "source": [
    "#파이썬 철학\n",
    "import this"
   ]
  },
  {
   "cell_type": "code",
   "execution_count": null,
   "metadata": {},
   "outputs": [],
   "source": [
    "#quiz 100~130까지 랜덤한 숫자 8*8행렬\n",
    "#3의 배수는 fiz, 5의 배수는 buz, 3과5의 배수는 fbz문자로 변환"
   ]
  },
  {
   "cell_type": "code",
   "execution_count": 7,
   "metadata": {},
   "outputs": [
    {
     "data": {
      "text/plain": [
       "array([1, 3])"
      ]
     },
     "execution_count": 7,
     "metadata": {},
     "output_type": "execute_result"
    }
   ],
   "source": [
    "#참고\n",
    "data1=np.array([1,2,3])\n",
    "data2=[True,False,True]\n",
    "data1[data2]"
   ]
  },
  {
   "cell_type": "code",
   "execution_count": 24,
   "metadata": {},
   "outputs": [],
   "source": [
    "# import random\n",
    "# import numpy as np\n",
    "# datas=np.random.randint(100,130,size=(8,8))\n",
    "# for i in range(datas.size):\n",
    "#     if data[i]%3==0 and data[i]%5==0:\n",
    "#         data[i]=\"fbz\"\n",
    "#         continue\n",
    "#     elif data[i]%3==0:\n",
    "#         data[i]=\"fiz\"\n",
    "#         continue\n",
    "#     elif data[i]%5==0:\n",
    "#         data[i]=\"buz\"\n",
    "#         continue\n",
    "        \n",
    "# datas=ndarray.astype(\"str\")\n",
    "# print(datas)"
   ]
  },
  {
   "cell_type": "code",
   "execution_count": 25,
   "metadata": {},
   "outputs": [],
   "source": [
    "import random\n",
    "import numpy as np\n",
    "datas=np.random.randint(100,130,size=(8,8))\n",
    "\n",
    "idx_3=datas%3==0\n",
    "idx_5=datas%5==0\n",
    "idx_15=datas%15==0"
   ]
  },
  {
   "cell_type": "code",
   "execution_count": 26,
   "metadata": {},
   "outputs": [
    {
     "data": {
      "text/plain": [
       "array([['120', '100', '113', '103', '113', '103', '124', '129'],\n",
       "       ['114', '103', '109', '104', '123', '125', '123', '109'],\n",
       "       ['129', '122', '128', '103', '106', '121', '100', '127'],\n",
       "       ['126', '109', '117', '128', '129', '123', '101', '122'],\n",
       "       ['109', '107', '111', '120', '106', '103', '123', '108'],\n",
       "       ['100', '110', '110', '117', '117', '128', '123', '129'],\n",
       "       ['123', '101', '111', '121', '116', '107', '110', '108'],\n",
       "       ['102', '118', '116', '122', '114', '117', '127', '111']],\n",
       "      dtype='<U11')"
      ]
     },
     "execution_count": 26,
     "metadata": {},
     "output_type": "execute_result"
    }
   ],
   "source": [
    "result=datas.astype(\"str\")\n",
    "result"
   ]
  },
  {
   "cell_type": "code",
   "execution_count": 28,
   "metadata": {},
   "outputs": [
    {
     "data": {
      "text/plain": [
       "array([['fbz', 'buz', '113', '103', '113', '103', '124', 'fbz'],\n",
       "       ['fbz', '103', '109', '104', 'fbz', 'buz', 'fbz', '109'],\n",
       "       ['fbz', '122', '128', '103', '106', '121', 'buz', '127'],\n",
       "       ['fbz', '109', 'fbz', '128', 'fbz', 'fbz', '101', '122'],\n",
       "       ['109', '107', 'fbz', 'fbz', '106', '103', 'fbz', 'fbz'],\n",
       "       ['buz', 'buz', 'buz', 'fbz', 'fbz', '128', 'fbz', 'fbz'],\n",
       "       ['fbz', '101', 'fbz', '121', '116', '107', 'buz', 'fbz'],\n",
       "       ['fbz', '118', '116', '122', 'fbz', 'fbz', '127', 'fbz']],\n",
       "      dtype='<U11')"
      ]
     },
     "execution_count": 28,
     "metadata": {},
     "output_type": "execute_result"
    }
   ],
   "source": [
    "result[idx_3]=\"fiz\"\n",
    "result[idx_5]=\"buz\"\n",
    "result[idx_3]=\"fbz\"\n",
    "result"
   ]
  },
  {
   "cell_type": "code",
   "execution_count": 34,
   "metadata": {},
   "outputs": [
    {
     "data": {
      "text/plain": [
       "array([['6', '17', '10', 'MAX', '7'],\n",
       "       ['MAX', '5', '12', '3', '15'],\n",
       "       ['5', '17', 'MAX', '18', '12'],\n",
       "       ['7', '8', '8', 'MAX', '17'],\n",
       "       ['3', '3', '16', 'MIN', '13']], dtype='<U11')"
      ]
     },
     "execution_count": 34,
     "metadata": {},
     "output_type": "execute_result"
    }
   ],
   "source": [
    "###2번\n",
    "import random\n",
    "import numpy as np\n",
    "\n",
    "datas=np.random.randint(1,20,(5,5))\n",
    "min=np.min(datas)\n",
    "max=np.max(datas)\n",
    "idx_min=datas==min\n",
    "idx_max=datas==max\n",
    "\n",
    "result=datas.astype(\"str\")\n",
    "\n",
    "result[idx_min]=\"MIN\"\n",
    "result[idx_max]=\"MAX\"\n",
    "\n",
    "result\n"
   ]
  },
  {
   "cell_type": "code",
   "execution_count": null,
   "metadata": {},
   "outputs": [],
   "source": []
  }
 ],
 "metadata": {
  "kernelspec": {
   "display_name": "Python 3",
   "language": "python",
   "name": "python3"
  },
  "language_info": {
   "codemirror_mode": {
    "name": "ipython",
    "version": 3
   },
   "file_extension": ".py",
   "mimetype": "text/x-python",
   "name": "python",
   "nbconvert_exporter": "python",
   "pygments_lexer": "ipython3",
   "version": "3.8.5"
  }
 },
 "nbformat": 4,
 "nbformat_minor": 4
}
