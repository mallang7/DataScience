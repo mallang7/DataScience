{
 "cells": [
  {
   "cell_type": "code",
   "execution_count": 1,
   "id": "specialized-syndrome",
   "metadata": {},
   "outputs": [],
   "source": [
    "import MySQLdb"
   ]
  },
  {
   "cell_type": "code",
   "execution_count": 2,
   "id": "brave-junior",
   "metadata": {},
   "outputs": [
    {
     "data": {
      "text/plain": [
       "<_mysql.connection open to '3.34.255.10' at 0x55d6cfefa7c8>"
      ]
     },
     "execution_count": 2,
     "metadata": {},
     "output_type": "execute_result"
    }
   ],
   "source": [
    "db = MySQLdb.connect(\n",
    "    \"3.34.255.10\",#public ip\n",
    "    \"root\",#user\n",
    "    \"dss\",#password\n",
    "    \"world\",#database name\n",
    ")\n",
    "db"
   ]
  },
  {
   "cell_type": "code",
   "execution_count": 4,
   "id": "cooked-albert",
   "metadata": {},
   "outputs": [],
   "source": [
    "# 쿼리 작성\n",
    "QUERY=\"SHOW TABLES;\""
   ]
  },
  {
   "cell_type": "code",
   "execution_count": 5,
   "id": "subtle-librarian",
   "metadata": {},
   "outputs": [
    {
     "data": {
      "text/plain": [
       "6"
      ]
     },
     "execution_count": 5,
     "metadata": {},
     "output_type": "execute_result"
    }
   ],
   "source": [
    "# 쿼리 실행\n",
    "curs= db.cursor()\n",
    "curs.execute(QUERY)"
   ]
  },
  {
   "cell_type": "code",
   "execution_count": 6,
   "id": "ranging-office",
   "metadata": {},
   "outputs": [
    {
     "data": {
      "text/plain": [
       "(('USER',),\n",
       " ('addr',),\n",
       " ('city',),\n",
       " ('code_name',),\n",
       " ('country',),\n",
       " ('countrylanguage',))"
      ]
     },
     "execution_count": 6,
     "metadata": {},
     "output_type": "execute_result"
    }
   ],
   "source": [
    "# 결과 출력\n",
    "rows=curs.fetchall()\n",
    "rows"
   ]
  },
  {
   "cell_type": "code",
   "execution_count": 7,
   "id": "stuck-baltimore",
   "metadata": {},
   "outputs": [],
   "source": [
    "# 데이터 프레임으로 가져오기\n",
    "import pandas as pd"
   ]
  },
  {
   "cell_type": "code",
   "execution_count": 8,
   "id": "brazilian-counter",
   "metadata": {},
   "outputs": [],
   "source": [
    "QUERY = \"\"\"\n",
    "    SELECT *\n",
    "    FROM country\n",
    "\"\"\""
   ]
  },
  {
   "cell_type": "code",
   "execution_count": 9,
   "id": "portable-foster",
   "metadata": {},
   "outputs": [
    {
     "data": {
      "text/html": [
       "<div>\n",
       "<style scoped>\n",
       "    .dataframe tbody tr th:only-of-type {\n",
       "        vertical-align: middle;\n",
       "    }\n",
       "\n",
       "    .dataframe tbody tr th {\n",
       "        vertical-align: top;\n",
       "    }\n",
       "\n",
       "    .dataframe thead th {\n",
       "        text-align: right;\n",
       "    }\n",
       "</style>\n",
       "<table border=\"1\" class=\"dataframe\">\n",
       "  <thead>\n",
       "    <tr style=\"text-align: right;\">\n",
       "      <th></th>\n",
       "      <th>Code</th>\n",
       "      <th>Name</th>\n",
       "      <th>Continent</th>\n",
       "      <th>Region</th>\n",
       "      <th>SurfaceArea</th>\n",
       "      <th>IndepYear</th>\n",
       "      <th>Population</th>\n",
       "      <th>LifeExpectancy</th>\n",
       "      <th>GNP</th>\n",
       "      <th>GNPOld</th>\n",
       "      <th>LocalName</th>\n",
       "      <th>GovernmentForm</th>\n",
       "      <th>HeadOfState</th>\n",
       "      <th>Capital</th>\n",
       "      <th>Code2</th>\n",
       "    </tr>\n",
       "  </thead>\n",
       "  <tbody>\n",
       "    <tr>\n",
       "      <th>237</th>\n",
       "      <td>ZMB</td>\n",
       "      <td>Zambia</td>\n",
       "      <td>Africa</td>\n",
       "      <td>Eastern Africa</td>\n",
       "      <td>752618.0</td>\n",
       "      <td>1964.0</td>\n",
       "      <td>9169000</td>\n",
       "      <td>37.2</td>\n",
       "      <td>3377.0</td>\n",
       "      <td>3922.0</td>\n",
       "      <td>Zambia</td>\n",
       "      <td>Republic</td>\n",
       "      <td>Frederick Chiluba</td>\n",
       "      <td>3162.0</td>\n",
       "      <td>ZM</td>\n",
       "    </tr>\n",
       "    <tr>\n",
       "      <th>238</th>\n",
       "      <td>ZWE</td>\n",
       "      <td>Zimbabwe</td>\n",
       "      <td>Africa</td>\n",
       "      <td>Eastern Africa</td>\n",
       "      <td>390757.0</td>\n",
       "      <td>1980.0</td>\n",
       "      <td>11669000</td>\n",
       "      <td>37.8</td>\n",
       "      <td>5951.0</td>\n",
       "      <td>8670.0</td>\n",
       "      <td>Zimbabwe</td>\n",
       "      <td>Republic</td>\n",
       "      <td>Robert G. Mugabe</td>\n",
       "      <td>4068.0</td>\n",
       "      <td>ZW</td>\n",
       "    </tr>\n",
       "  </tbody>\n",
       "</table>\n",
       "</div>"
      ],
      "text/plain": [
       "    Code      Name Continent          Region  SurfaceArea  IndepYear  \\\n",
       "237  ZMB    Zambia    Africa  Eastern Africa     752618.0     1964.0   \n",
       "238  ZWE  Zimbabwe    Africa  Eastern Africa     390757.0     1980.0   \n",
       "\n",
       "     Population  LifeExpectancy     GNP  GNPOld LocalName GovernmentForm  \\\n",
       "237     9169000            37.2  3377.0  3922.0    Zambia       Republic   \n",
       "238    11669000            37.8  5951.0  8670.0  Zimbabwe       Republic   \n",
       "\n",
       "           HeadOfState  Capital Code2  \n",
       "237  Frederick Chiluba   3162.0    ZM  \n",
       "238   Robert G. Mugabe   4068.0    ZW  "
      ]
     },
     "execution_count": 9,
     "metadata": {},
     "output_type": "execute_result"
    }
   ],
   "source": [
    "df = pd.read_sql(QUERY,db)\n",
    "df.tail(2)"
   ]
  },
  {
   "cell_type": "code",
   "execution_count": null,
   "id": "running-navigation",
   "metadata": {},
   "outputs": [],
   "source": []
  }
 ],
 "metadata": {
  "kernelspec": {
   "display_name": "Python 3",
   "language": "python",
   "name": "python3"
  },
  "language_info": {
   "codemirror_mode": {
    "name": "ipython",
    "version": 3
   },
   "file_extension": ".py",
   "mimetype": "text/x-python",
   "name": "python",
   "nbconvert_exporter": "python",
   "pygments_lexer": "ipython3",
   "version": "3.6.9"
  }
 },
 "nbformat": 4,
 "nbformat_minor": 5
}
